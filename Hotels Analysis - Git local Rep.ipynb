{
 "cells": [
  {
   "cell_type": "code",
   "execution_count": null,
   "metadata": {},
   "outputs": [],
   "source": [
    "#pip install markdown\n",
    "#pip install requests\n",
    "#pip install csv"
   ]
  },
  {
   "cell_type": "code",
   "execution_count": 105,
   "metadata": {},
   "outputs": [],
   "source": [
    "import markdown\n",
    "import requests\n",
    "import csv\n",
    "import pandas as pd\n",
    "import io\n",
    "import json"
   ]
  },
  {
   "cell_type": "markdown",
   "metadata": {},
   "source": [
    "### To clone reposotory in local file (alternative way)"
   ]
  },
  {
   "cell_type": "code",
   "execution_count": null,
   "metadata": {},
   "outputs": [],
   "source": [
    "#pip install GitPython"
   ]
  },
  {
   "cell_type": "code",
   "execution_count": null,
   "metadata": {},
   "outputs": [],
   "source": [
    "#Don't run again the above cell"
   ]
  },
  {
   "cell_type": "code",
   "execution_count": null,
   "metadata": {},
   "outputs": [],
   "source": [
    "#from git import Repo"
   ]
  },
  {
   "cell_type": "code",
   "execution_count": null,
   "metadata": {},
   "outputs": [],
   "source": [
    "#repo_url = 'https://github.com/DeaAnalytics/test-data-analyst.git'\n",
    "\n",
    "#local_directory = 'C:/Users/victo/OneDrive/Documentos/GitHub'\n",
    "\n",
    "#repo = Repo.clone_from(repo_url, local_directory)"
   ]
  },
  {
   "cell_type": "markdown",
   "metadata": {},
   "source": [
    "#### End of the above section\n",
    "###### Note: the reposotory was cloneddirectly from Git through a GUI, the above code was not used"
   ]
  },
  {
   "cell_type": "markdown",
   "metadata": {},
   "source": [
    "#### Extracting md file (No used)"
   ]
  },
  {
   "cell_type": "code",
   "execution_count": null,
   "metadata": {},
   "outputs": [],
   "source": [
    "local_file = 'C:/Users/victo/OneDrive/Documentos/GitHub/test-data-analyst/Readme.md'\n",
    "\n",
    "with open(local_file, 'r', encoding='utf-8') as file:\n",
    "    data = file.read()\n",
    "    \n",
    "print(data)"
   ]
  },
  {
   "cell_type": "code",
   "execution_count": null,
   "metadata": {},
   "outputs": [],
   "source": [
    "#Extracting URL\n",
    "html = markdown.markdown(data)\n",
    "\n",
    "urls = []\n",
    "for token in html.split():\n",
    "    if token.startswith(\"http://\") or token.startswith(\"https://\"):\n",
    "        urls.append(token)\n",
    "\n",
    "#for url in urls:\n",
    "#    print(url)\n",
    "\n",
    "#shows url as link\n",
    "print(urls[0])"
   ]
  },
  {
   "cell_type": "code",
   "execution_count": null,
   "metadata": {},
   "outputs": [],
   "source": [
    "#url as string\n",
    "urls[0]"
   ]
  },
  {
   "cell_type": "markdown",
   "metadata": {},
   "source": [
    "### Pull csv from API "
   ]
  },
  {
   "cell_type": "markdown",
   "metadata": {},
   "source": [
    "##### Hoteles 1 & 2 dataset (change Name to export desired dataset)"
   ]
  },
  {
   "cell_type": "code",
   "execution_count": 143,
   "metadata": {},
   "outputs": [],
   "source": [
    "api_key = 'c744a2a4-ab89-5432-b5e6-9f320162e160'\n",
    "#api_key = 'f10f4f5f-4201-5b1a-9f8f-380b9cb9caa2'\n",
    "api_url = f'https://analytics.deacero.com/api/teenus/get-data/{api_key}'"
   ]
  },
  {
   "cell_type": "code",
   "execution_count": 138,
   "metadata": {},
   "outputs": [],
   "source": [
    "response = requests.get(api_url)"
   ]
  },
  {
   "cell_type": "code",
   "execution_count": 144,
   "metadata": {},
   "outputs": [
    {
     "name": "stdout",
     "output_type": "stream",
     "text": [
      "CSV data saved to 'C:/Users/victo/OneDrive/Documentos/GitHub/test-data-analyst/Hoteles1.csv'\n"
     ]
    }
   ],
   "source": [
    "if response.status_code == 200:\n",
    "    \n",
    "    data = response.json()\n",
    "\n",
    "    #Check if response contains any data\n",
    "    if data:\n",
    "        \n",
    "        csv_file_path = 'C:/Users/victo/OneDrive/Documentos/GitHub/test-data-analyst/Hoteles1.csv'\n",
    "\n",
    "        keys = data[0].keys()\n",
    "\n",
    "        with open(csv_file_path, 'w', newline='') as file:\n",
    "            writer = csv.DictWriter(file, fieldnames=keys)\n",
    "            writer.writeheader()\n",
    "            writer.writerows(data)\n",
    "\n",
    "        print(f\"CSV data saved to '{csv_file_path}'\")\n",
    "    else:\n",
    "        print(\"No data returned from the API\")\n",
    "else:\n",
    "    print('Error occurred. Status code:', response.status_code)"
   ]
  },
  {
   "cell_type": "markdown",
   "metadata": {},
   "source": [
    "## Data manipulation | Define function | Perform Analysis"
   ]
  },
  {
   "cell_type": "code",
   "execution_count": 145,
   "metadata": {},
   "outputs": [],
   "source": [
    "#read csv's, Concatenate Hoteles 1 & Hoteles 2 into 1 df\n",
    "\n",
    "csv_file1 = 'C:/Users/victo/OneDrive/Documentos/GitHub/test-data-analyst/Hoteles1.csv'\n",
    "df1 = pd.read_csv(csv_file1)\n",
    "\n",
    "csv_file2 = 'C:/Users/victo/OneDrive/Documentos/GitHub/test-data-analyst/Hoteles2.csv'\n",
    "df2 = pd.read_csv(csv_file2)"
   ]
  },
  {
   "cell_type": "code",
   "execution_count": 146,
   "metadata": {},
   "outputs": [],
   "source": [
    "df = pd.concat([df1, df2])\n",
    "\n",
    "#also deletE all innecesary columns\n",
    "columns_to_delete = ['lead_time','arrival_date_week_number',\n",
    "       'arrival_date_day_of_month','adults', 'children', 'babies', 'meal',\n",
    "       'distribution_channel',\n",
    "       'is_repeated_guest', 'previous_cancellations',\n",
    "       'previous_bookings_not_canceled', 'reserved_room_type',\n",
    "       'assigned_room_type', 'booking_changes', 'deposit_type', 'agent',\n",
    "       'company', 'days_in_waiting_list', 'customer_type',\n",
    "       'required_car_parking_spaces', 'total_of_special_requests',\n",
    "       'reservation_status', 'reservation_status_date']\n",
    "df = df.drop(columns=columns_to_delete)\n",
    "\n",
    "df.columns\n",
    "#write of the new integrated csv (to perform the 8 graphics in PowerBI)\n",
    "\n",
    "folder_path = 'C:/Users/victo/OneDrive/Documentos/GitHub/test-data-analyst'  # Specify the folder path where you want to save the CSV file\n",
    "file_name = 'Hoteles_concat.csv'\n",
    "df.to_csv(f'{folder_path}/{file_name}', index=False)"
   ]
  },
  {
   "cell_type": "markdown",
   "metadata": {},
   "source": [
    "##### The below block of code is a test to perform analysis over data frame, when the test is done, and the results are obtained\n",
    "#### The test is performed over the dataset Hoteles 1, with a sample of only 10,000 observations"
   ]
  },
  {
   "cell_type": "code",
   "execution_count": 122,
   "metadata": {},
   "outputs": [],
   "source": [
    "#read csv\n",
    "csv_file = 'C:/Users/victo/OneDrive/Documentos/GitHub/test-data-analyst/Hoteles1.csv'\n",
    "df = pd.read_csv(csv_file)"
   ]
  },
  {
   "cell_type": "code",
   "execution_count": 26,
   "metadata": {},
   "outputs": [
    {
     "data": {
      "text/plain": [
       "Index(['hotel', 'is_canceled', 'lead_time', 'arrival_date_year',\n",
       "       'arrival_date_month', 'arrival_date_week_number',\n",
       "       'arrival_date_day_of_month', 'stays_in_weekend_nights',\n",
       "       'stays_in_week_nights', 'adults', 'children', 'babies', 'meal',\n",
       "       'country', 'market_segment', 'distribution_channel',\n",
       "       'is_repeated_guest', 'previous_cancellations',\n",
       "       'previous_bookings_not_canceled', 'reserved_room_type',\n",
       "       'assigned_room_type', 'booking_changes', 'deposit_type', 'agent',\n",
       "       'company', 'days_in_waiting_list', 'customer_type', 'adr',\n",
       "       'required_car_parking_spaces', 'total_of_special_requests',\n",
       "       'reservation_status', 'reservation_status_date'],\n",
       "      dtype='object')"
      ]
     },
     "execution_count": 26,
     "metadata": {},
     "output_type": "execute_result"
    }
   ],
   "source": [
    "#creating sample\n",
    "sample_df = df.sample(n=10000, random_state=42)\n",
    "\n",
    "sample_df.columns[0] #first column is hotel\n",
    "sample_df.columns\n",
    "#print(sample_df.head)"
   ]
  },
  {
   "cell_type": "code",
   "execution_count": 50,
   "metadata": {},
   "outputs": [],
   "source": [
    "#Visulatization of the styled df to facilitate operations through visutalization\n",
    "#perform when needed to visualize resulting data frame\n",
    "styled_df = sample_df.style.set_table_styles([\n",
    "    {'selector': 'thead',\n",
    "     'props': [('background-color', '#f2f2f2')]},\n",
    "    {'selector': 'tbody tr:nth-child(even)',\n",
    "     'props': [('background-color', '#e6e6e6')]},\n",
    "    {'selector': 'tbody tr:nth-child(odd)',\n",
    "     'props': [('background-color', 'white')]},\n",
    "    {'selector': 'th',\n",
    "     'props': [('font-weight', 'bold'),\n",
    "               ('text-align', 'center'),\n",
    "               ('padding', '8px')]},\n",
    "    {'selector': 'td',\n",
    "     'props': [('padding', '8px')]},\n",
    "])\n",
    "\n",
    "table_preview = styled_df.data.head(20)\n",
    "#table_preview #erase # to see the table!!"
   ]
  },
  {
   "cell_type": "markdown",
   "metadata": {},
   "source": [
    "##### End of testing section"
   ]
  },
  {
   "cell_type": "markdown",
   "metadata": {},
   "source": [
    "### Questions solutions with Analysis"
   ]
  },
  {
   "cell_type": "code",
   "execution_count": 158,
   "metadata": {},
   "outputs": [
    {
     "name": "stdout",
     "output_type": "stream",
     "text": [
      "hotel         country  arrival_date_year\n",
      "City Hotel    ABW      2016                   2\n",
      "                       2017                   2\n",
      "              AGO      2015                  98\n",
      "                       2016                 356\n",
      "                       2017                 222\n",
      "                                           ... \n",
      "Resort Hotel  ZAF      2016                   6\n",
      "                       2017                  10\n",
      "              ZMB      2015                   1\n",
      "              ZWE      2015                   1\n",
      "                       2017                   1\n",
      "Length: 635, dtype: int64\n"
     ]
    }
   ],
   "source": [
    "    #-¿De dónde vienen los huéspedes?\n",
    "countries_byHotel_ByYear = df.groupby(['hotel','country','arrival_date_year']).size()\n",
    "print(countries_byHotel_ByYear)"
   ]
  },
  {
   "cell_type": "code",
   "execution_count": 147,
   "metadata": {},
   "outputs": [
    {
     "name": "stdout",
     "output_type": "stream",
     "text": [
      "hotel         arrival_date_year\n",
      "City Hotel    2015                  85.856915\n",
      "              2016                 103.483683\n",
      "              2017                 117.501864\n",
      "Resort Hotel  2015                  89.353417\n",
      "              2016                  87.730762\n",
      "              2017                 108.660217\n",
      "Name: adr, dtype: float64\n"
     ]
    }
   ],
   "source": [
    "    #-¿Cuánto pagan los huéspedes por una habitación por noche en promedio?\n",
    "    \n",
    "meanPrice_byHotelType_byYear = df.groupby(['hotel','arrival_date_year'])['adr'].mean()\n",
    "print(meanPrice_byHotelType_byYear)"
   ]
  },
  {
   "cell_type": "code",
   "execution_count": 148,
   "metadata": {},
   "outputs": [
    {
     "name": "stdout",
     "output_type": "stream",
     "text": [
      "hotel         arrival_date_year\n",
      "City Hotel    2015                 34.282793\n",
      "              2016                 45.167460\n",
      "              2017                 41.572164\n",
      "Resort Hotel  2015                 53.789117\n",
      "              2016                 57.134813\n",
      "              2017                 69.068934\n",
      "Name: adr, dtype: float64\n"
     ]
    }
   ],
   "source": [
    "    #-¿Cómo varía el precio por noche durante el año?\n",
    "\n",
    "desvPrice_byHotelType_byYear = df.groupby(['hotel','arrival_date_year'])['adr'].std()\n",
    "print(desvPrice_byHotelType_byYear)"
   ]
  },
  {
   "cell_type": "code",
   "execution_count": 151,
   "metadata": {},
   "outputs": [
    {
     "name": "stdout",
     "output_type": "stream",
     "text": [
      "           hotel  arrival_date_year arrival_date_month  count\n",
      "0     City Hotel               2015            October   4130\n",
      "1     City Hotel               2015          September   3972\n",
      "2     City Hotel               2015             August   2496\n",
      "3     City Hotel               2016          September   4608\n",
      "4     City Hotel               2016            October   4544\n",
      "5     City Hotel               2016                May   4480\n",
      "6     City Hotel               2017                May   4678\n",
      "7     City Hotel               2017               July   4470\n",
      "8     City Hotel               2017               June   4326\n",
      "9   Resort Hotel               2015            October   1160\n",
      "10  Resort Hotel               2015               July   1058\n",
      "11  Resort Hotel               2015             August   1043\n",
      "12  Resort Hotel               2016            October   1417\n",
      "13  Resort Hotel               2016              March   1409\n",
      "14  Resort Hotel               2016              April   1345\n",
      "15  Resort Hotel               2017                May   1212\n",
      "16  Resort Hotel               2017              April   1205\n",
      "17  Resort Hotel               2017           February   1195\n"
     ]
    }
   ],
   "source": [
    "    #-¿Cuáles son los meses más ocupados?\n",
    "#Months with more reservations (not cancelled)\n",
    "#top 3 higher number of reservations among months (return month and number of reservations), by year, by Hotel type\n",
    "df_notCancelled = df[df['is_canceled']==0]\n",
    "\n",
    "df_grouped = df_notCancelled.groupby(['hotel','arrival_date_year','arrival_date_month']).size().reset_index(name='count')\n",
    "\n",
    "df_top3Months = df_grouped.groupby(['hotel', 'arrival_date_year']).apply(lambda x: x.nlargest(3, 'count')).reset_index(drop=True)\n",
    "\n",
    "#print(df_top3months)\n",
    "print(df_top3Months) #result\n",
    "#print(df_grouped)"
   ]
  },
  {
   "cell_type": "code",
   "execution_count": 154,
   "metadata": {},
   "outputs": [
    {
     "name": "stdout",
     "output_type": "stream",
     "text": [
      "hotel         arrival_date_year\n",
      "City Hotel    2015                 2.758401\n",
      "              2016                 2.895438\n",
      "              2017                 3.044319\n",
      "Resort Hotel  2015                 4.391839\n",
      "              2016                 3.958055\n",
      "              2017                 4.250630\n",
      "Name: Total_Nights, dtype: float64\n"
     ]
    },
    {
     "name": "stderr",
     "output_type": "stream",
     "text": [
      "<ipython-input-154-06abea6f0375>:4: SettingWithCopyWarning: \n",
      "A value is trying to be set on a copy of a slice from a DataFrame.\n",
      "Try using .loc[row_indexer,col_indexer] = value instead\n",
      "\n",
      "See the caveats in the documentation: https://pandas.pydata.org/pandas-docs/stable/user_guide/indexing.html#returning-a-view-versus-a-copy\n",
      "  df_notCancelled['Total_Nights'] = df_notCancelled['stays_in_week_nights'] + df_notCancelled['stays_in_weekend_nights']\n"
     ]
    }
   ],
   "source": [
    "    #-¿Cuánto tiempo se queda la gente en los hoteles (noches)?\n",
    "# average nights per Type and year\n",
    "\n",
    "df_notCancelled['Total_Nights'] = df_notCancelled['stays_in_week_nights'] + df_notCancelled['stays_in_weekend_nights'] \n",
    "\n",
    "avgNight_ByYear = df_notCancelled.groupby(['hotel','arrival_date_year'])['Total_Nights'].mean()\n",
    "print(avgNight_ByYear)"
   ]
  },
  {
   "cell_type": "code",
   "execution_count": 155,
   "metadata": {},
   "outputs": [
    {
     "name": "stdout",
     "output_type": "stream",
     "text": [
      "           hotel market_segment  arrival_date_year  reservations\n",
      "0     City Hotel       Aviation               2016           254\n",
      "1     City Hotel       Aviation               2017           220\n",
      "2     City Hotel  Complementary               2015           264\n",
      "3     City Hotel  Complementary               2016           522\n",
      "4     City Hotel  Complementary               2017           298\n",
      "5     City Hotel      Corporate               2015          1132\n",
      "6     City Hotel      Corporate               2016          3272\n",
      "7     City Hotel      Corporate               2017          1568\n",
      "8     City Hotel         Direct               2015          1936\n",
      "9     City Hotel         Direct               2016          5440\n",
      "10    City Hotel         Direct               2017          4810\n",
      "11    City Hotel         Groups               2015          9898\n",
      "12    City Hotel         Groups               2016          9374\n",
      "13    City Hotel         Groups               2017          8678\n",
      "14    City Hotel  Offline TA/TO               2015          8004\n",
      "15    City Hotel  Offline TA/TO               2016         18002\n",
      "16    City Hotel  Offline TA/TO               2017          7488\n",
      "17    City Hotel      Online TA               2015          6126\n",
      "18    City Hotel      Online TA               2016         39416\n",
      "19    City Hotel      Online TA               2017         31954\n",
      "20    City Hotel      Undefined               2015             4\n",
      "21  Resort Hotel  Complementary               2015            33\n",
      "22  Resort Hotel  Complementary               2016           103\n",
      "23  Resort Hotel  Complementary               2017            65\n",
      "24  Resort Hotel      Corporate               2015           605\n",
      "25  Resort Hotel      Corporate               2016           926\n",
      "26  Resort Hotel      Corporate               2017           778\n",
      "27  Resort Hotel         Direct               2015          1346\n",
      "28  Resort Hotel         Direct               2016          2943\n",
      "29  Resort Hotel         Direct               2017          2224\n",
      "30  Resort Hotel         Groups               2015          1151\n",
      "31  Resort Hotel         Groups               2016          3170\n",
      "32  Resort Hotel         Groups               2017          1515\n",
      "33  Resort Hotel  Offline TA/TO               2015          2077\n",
      "34  Resort Hotel  Offline TA/TO               2016          3472\n",
      "35  Resort Hotel  Offline TA/TO               2017          1923\n",
      "36  Resort Hotel      Online TA               2015          3102\n",
      "37  Resort Hotel      Online TA               2016          7953\n",
      "38  Resort Hotel      Online TA               2017          6674\n"
     ]
    }
   ],
   "source": [
    "    #-Reservas por segmento de mercado\n",
    "#Per year\n",
    "\n",
    "reservations_byMarket = df.groupby(['hotel','market_segment',\"arrival_date_year\"]).size().reset_index(name='reservations')\n",
    "print(reservations_byMarket)"
   ]
  },
  {
   "cell_type": "code",
   "execution_count": 156,
   "metadata": {},
   "outputs": [
    {
     "name": "stdout",
     "output_type": "stream",
     "text": [
      "hotel         arrival_date_year\n",
      "City Hotel    2015                 12008\n",
      "              2016                 30814\n",
      "              2017                 23382\n",
      "Resort Hotel  2015                  2138\n",
      "              2016                  4930\n",
      "              2017                  4054\n",
      "dtype: int64\n"
     ]
    }
   ],
   "source": [
    "    #-¿Cuántas reservas se cancelaron?\n",
    "    \n",
    "df_cancelled = df[df['is_canceled']==1]\n",
    "countCancelled_byHotelType = df_cancelled.groupby(['hotel','arrival_date_year']).size()\n",
    "print(countCancelled_byHotelType)"
   ]
  },
  {
   "cell_type": "code",
   "execution_count": 157,
   "metadata": {},
   "outputs": [
    {
     "name": "stdout",
     "output_type": "stream",
     "text": [
      "           hotel  arrival_date_year arrival_date_month  Cancelations\n",
      "0     City Hotel               2015          September          3086\n",
      "1     City Hotel               2015            October          2642\n",
      "2     City Hotel               2016            October          3894\n",
      "3     City Hotel               2016               June          3440\n",
      "4     City Hotel               2017                May          4434\n",
      "5     City Hotel               2017              April          3852\n",
      "6   Resort Hotel               2015          September           551\n",
      "7   Resort Hotel               2015            October           411\n",
      "8   Resort Hotel               2016             August           578\n",
      "9   Resort Hotel               2016            October           567\n",
      "10  Resort Hotel               2017             August           693\n",
      "11  Resort Hotel               2017               July           660\n"
     ]
    }
   ],
   "source": [
    "    #-¿Qué mes tiene el mayor número de cancelaciones?\n",
    "    \n",
    "df_grouped = df_cancelled.groupby(['hotel','arrival_date_year','arrival_date_month']).size().reset_index(name='Cancelations')\n",
    "\n",
    "df_top3CancelledMonths = df_grouped.groupby(['hotel', 'arrival_date_year']).apply(lambda x: x.nlargest(2, 'Cancelations')).reset_index(drop=True)\n",
    "\n",
    "#print(df_top3months)\n",
    "print(df_top3CancelledMonths) #result\n",
    "#print(df_grouped)"
   ]
  },
  {
   "cell_type": "code",
   "execution_count": null,
   "metadata": {},
   "outputs": [],
   "source": []
  },
  {
   "cell_type": "code",
   "execution_count": null,
   "metadata": {},
   "outputs": [],
   "source": []
  },
  {
   "cell_type": "code",
   "execution_count": null,
   "metadata": {},
   "outputs": [],
   "source": []
  },
  {
   "cell_type": "code",
   "execution_count": null,
   "metadata": {},
   "outputs": [],
   "source": []
  }
 ],
 "metadata": {
  "celltoolbar": "Raw Cell Format",
  "kernelspec": {
   "display_name": "Python 3",
   "language": "python",
   "name": "python3"
  },
  "language_info": {
   "codemirror_mode": {
    "name": "ipython",
    "version": 3
   },
   "file_extension": ".py",
   "mimetype": "text/x-python",
   "name": "python",
   "nbconvert_exporter": "python",
   "pygments_lexer": "ipython3",
   "version": "3.8.3"
  }
 },
 "nbformat": 4,
 "nbformat_minor": 4
}
